{
 "cells": [
  {
   "cell_type": "code",
   "execution_count": 1,
   "id": "748447e6-88b1-4388-8f33-17ba04755e3f",
   "metadata": {},
   "outputs": [],
   "source": [
    "import sys\n",
    "sys.path.insert(0, '../../')"
   ]
  },
  {
   "cell_type": "code",
   "execution_count": 2,
   "id": "c37eb38b-7d74-46a7-b6ab-f23752e46dec",
   "metadata": {},
   "outputs": [],
   "source": [
    "import os\n",
    "import numpy as np\n",
    "import matplotlib.pyplot as plt\n",
    "from typing import List, Tuple, Union\n",
    "\n",
    "import candle\n",
    "import experiments.textgenutils as gutils"
   ]
  },
  {
   "cell_type": "code",
   "execution_count": 3,
   "id": "4ce2669c-7fb1-47bf-b808-5f0ff4393b22",
   "metadata": {},
   "outputs": [],
   "source": [
    "import warnings\n",
    "warnings.filterwarnings('ignore')"
   ]
  },
  {
   "cell_type": "markdown",
   "id": "4fea36b8-ddce-4525-9ac8-e8dd5581f121",
   "metadata": {},
   "source": [
    "## (1) Load Model"
   ]
  },
  {
   "cell_type": "code",
   "execution_count": 4,
   "id": "9194cfc6",
   "metadata": {},
   "outputs": [],
   "source": [
    "os.environ['TRANSFORMERS_CACHE'] = '/mnt/disks/disk1'\n",
    "MODEL_ID = 'state-spaces/mamba-2.8b-slimpj'\n",
    "\n",
    "model = candle.models.mamba.Mamba.from_pretrained(MODEL_ID)"
   ]
  },
  {
   "cell_type": "code",
   "execution_count": 5,
   "id": "8777b772-6491-4c13-8e54-d9fd784c5d3f",
   "metadata": {},
   "outputs": [],
   "source": [
    "from transformers import AutoTokenizer\n",
    "tokenizer = AutoTokenizer.from_pretrained('EleutherAI/gpt-neox-20b')  # Get HF tokenizer. I'm a little lazy to reimplement yet another tokenizer :-)"
   ]
  },
  {
   "cell_type": "markdown",
   "id": "d32362b7",
   "metadata": {},
   "source": [
    "## (2) Have a conversation"
   ]
  },
  {
   "cell_type": "code",
   "execution_count": 6,
   "id": "6d235056-a55d-42b5-8055-ac817fd60f3d",
   "metadata": {},
   "outputs": [],
   "source": [
    "USER_NAME = 'John'\n",
    "ASST_NAME = 'Mamba'\n",
    "\n",
    "SYSTEM_MESSAGE = (f'Two friends, {USER_NAME} and {ASST_NAME}, are having a conversation. '\n",
    "                  f'{ASST_NAME} is friendly, talkative, and loves to ask {USER_NAME} questions.')\n",
    "chat_template = candle.nlp.chattemplates.SimpleConversationTemplate(USER_NAME, ASST_NAME, SYSTEM_MESSAGE)  \n",
    "model.block_size = np.inf  # To maintain compability with generation scripts\n",
    "\n",
    "def start_conversation(profile_pic: str = '🙂'):\n",
    "    gutils.interactive_conversation(\n",
    "        model, chat_template, tokenizer,\n",
    "        user_name=USER_NAME,\n",
    "        profile_pic=profile_pic,\n",
    "        user_bg_color='yellow',\n",
    "        asst_name=ASST_NAME,\n",
    "        asst_profile_pic='🐍',\n",
    "        asst_bg_color='bluegreen',\n",
    "        max_response_length=512,\n",
    "        top_k=100,\n",
    "        top_p=0.90,\n",
    "        temperature=1.2,\n",
    "        stop_token_idx=tokenizer.eos_token_id,\n",
    "        stop_strings={'\\n': 1, '\\.|\\!|\\?': 3},\n",
    "        use_kv_cache=False\n",
    "    )"
   ]
  },
  {
   "cell_type": "code",
   "execution_count": null,
   "id": "304d1330-3808-41d0-b71a-77b62f567404",
   "metadata": {},
   "outputs": [
    {
     "name": "stdout",
     "output_type": "stream",
     "text": [
      "\u001b[1m< You are now talking with Mamba. Send 'bye' to exit, 'clear' to reset cache. >\u001b[0m\n",
      "\n",
      "\u001b[43m\u001b[1m👦🏻\u001b[0m\u001b[1m John:\u001b[0m Hi Mamba!\n",
      "\n",
      "\u001b[48;5;109m\u001b[1m🐍\u001b[0m\u001b[1m Mamba:\u001b[0m Hi, John! Have you ever gone skydiving?\n",
      "\n",
      "\u001b[43m\u001b[1m👦🏻\u001b[0m\u001b[1m John:\u001b[0m No I haven't! Have you?\n",
      "\n",
      "\u001b[48;5;109m\u001b[1m🐍\u001b[0m\u001b[1m Mamba:\u001b[0m Yeah! I went over two months ago and it was really cool! What did you do on your vacation\n",
      "\n",
      "\u001b[43m\u001b[1m👦🏻\u001b[0m\u001b[1m John:\u001b[0m I went to Hawaii! Have you been?\n",
      "\n",
      "\u001b[48;5;109m\u001b[1m🐍\u001b[0m\u001b[1m Mamba:\u001b[0m Yes, I have!\n",
      "\n",
      "\u001b[43m\u001b[1m👦🏻\u001b[0m\u001b[1m John:\u001b[0m "
     ]
    }
   ],
   "source": [
    "start_conversation(profile_pic='👦🏻')"
   ]
  },
  {
   "cell_type": "code",
   "execution_count": null,
   "id": "0571f084-d5ed-44fa-8484-168262b69317",
   "metadata": {},
   "outputs": [],
   "source": []
  },
  {
   "cell_type": "code",
   "execution_count": null,
   "id": "3ca97f71-0f67-4da0-b572-f64d96390fba",
   "metadata": {},
   "outputs": [],
   "source": []
  },
  {
   "cell_type": "code",
   "execution_count": null,
   "id": "7e4f57e2-37ce-4963-ab9e-4925b30b5bc2",
   "metadata": {},
   "outputs": [],
   "source": []
  },
  {
   "cell_type": "code",
   "execution_count": null,
   "id": "b189ac1d-cbbd-4bdc-88f9-169ee2532afa",
   "metadata": {},
   "outputs": [],
   "source": []
  },
  {
   "cell_type": "code",
   "execution_count": null,
   "id": "0f02f01c-5296-49c3-bda3-c8d124a93e2c",
   "metadata": {},
   "outputs": [],
   "source": []
  },
  {
   "cell_type": "code",
   "execution_count": null,
   "id": "cb2522e3-f06f-4b90-ae25-f9dc02da735b",
   "metadata": {},
   "outputs": [],
   "source": []
  }
 ],
 "metadata": {
  "kernelspec": {
   "display_name": "Python 3 (ipykernel)",
   "language": "python",
   "name": "python3"
  },
  "language_info": {
   "codemirror_mode": {
    "name": "ipython",
    "version": 3
   },
   "file_extension": ".py",
   "mimetype": "text/x-python",
   "name": "python",
   "nbconvert_exporter": "python",
   "pygments_lexer": "ipython3",
   "version": "3.11.5"
  }
 },
 "nbformat": 4,
 "nbformat_minor": 5
}
